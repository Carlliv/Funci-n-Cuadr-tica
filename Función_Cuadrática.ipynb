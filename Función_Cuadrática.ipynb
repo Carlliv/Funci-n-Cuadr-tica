{
  "nbformat": 4,
  "nbformat_minor": 0,
  "metadata": {
    "colab": {
      "provenance": [],
      "authorship_tag": "ABX9TyMaLG9WO4mmL9IMT41Phb2r"
    },
    "kernelspec": {
      "name": "python3",
      "display_name": "Python 3"
    },
    "language_info": {
      "name": "python"
    }
  },
  "cells": [
    {
      "cell_type": "code",
      "source": [
        "import numpy as np"
      ],
      "metadata": {
        "id": "qoDi80_BfI4Q"
      },
      "execution_count": 3,
      "outputs": []
    },
    {
      "cell_type": "code",
      "source": [
        "cuad=int(input('Ingresar el termino cuadratico de la función: '))\n",
        "lin=int(input('Ingresar el termino lineal de la función: '))\n",
        "ind=int(input('Ingresar el termino independiente de la función: '))\n",
        "\n",
        "def cuadra(cuad,lin,ind):\n",
        "  b=(lin**2)-(4*cuad*ind)\n",
        "  c=2*cuad\n",
        "  if b< 0 :\n",
        "    x1=complex(-lin/c,-np.sqrt(abs(b))/c)\n",
        "    x2=complex(-lin/c,np.sqrt(abs(b))/c)\n",
        "  else:\n",
        "    x1=(-lin+np.sqrt(b))/c\n",
        "    x2=(-lin-np.sqrt(b))/c\n",
        "  return x1, x2"
      ],
      "metadata": {
        "colab": {
          "base_uri": "https://localhost:8080/"
        },
        "id": "wHkJe_JD0xlU",
        "outputId": "ee7871ca-9424-41f7-afad-22affec41e1a"
      },
      "execution_count": 30,
      "outputs": [
        {
          "name": "stdout",
          "output_type": "stream",
          "text": [
            "Ingresar el termino cuadratico de la función: 1\n",
            "Ingresar el termino lineal de la función: 0\n",
            "Ingresar el termino independiente de la función: 6\n"
          ]
        }
      ]
    },
    {
      "cell_type": "code",
      "source": [
        "cuadra(cuad,lin,ind)#En este caso j indica el numero imaginario"
      ],
      "metadata": {
        "colab": {
          "base_uri": "https://localhost:8080/"
        },
        "id": "4pKDa36gKCBY",
        "outputId": "adf10c96-9f8b-4487-b2c9-a1746c3dfa72"
      },
      "execution_count": 31,
      "outputs": [
        {
          "output_type": "execute_result",
          "data": {
            "text/plain": [
              "(-2.449489742783178j, 2.449489742783178j)"
            ]
          },
          "metadata": {},
          "execution_count": 31
        }
      ]
    }
  ]
}